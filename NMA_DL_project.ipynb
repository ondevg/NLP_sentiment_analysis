{
  "nbformat": 4,
  "nbformat_minor": 0,
  "metadata": {
    "accelerator": "GPU",
    "colab": {
      "name": "NMA DL project.ipynb",
      "provenance": [],
      "collapsed_sections": [
        "_n2_aiUQUE0S"
      ]
    },
    "kernelspec": {
      "display_name": "Python 3",
      "name": "python3"
    },
    "widgets": {
      "application/vnd.jupyter.widget-state+json": {
        "37e1bf0e1baf4713943da47fb5451c28": {
          "model_module": "@jupyter-widgets/controls",
          "model_name": "HBoxModel",
          "model_module_version": "1.5.0",
          "state": {
            "_view_name": "HBoxView",
            "_dom_classes": [],
            "_model_name": "HBoxModel",
            "_view_module": "@jupyter-widgets/controls",
            "_model_module_version": "1.5.0",
            "_view_count": null,
            "_view_module_version": "1.5.0",
            "box_style": "",
            "layout": "IPY_MODEL_9c30acb5d8e74d4c9a20d53cfaf8f092",
            "_model_module": "@jupyter-widgets/controls",
            "children": [
              "IPY_MODEL_adf8f8c27709401fac2d4b8cf8f63c73",
              "IPY_MODEL_3cea1b0adb5348bfaf524d8b4a2cecbf",
              "IPY_MODEL_8b3816333ab346b5895d1a2aad9eeeea"
            ]
          }
        },
        "9c30acb5d8e74d4c9a20d53cfaf8f092": {
          "model_module": "@jupyter-widgets/base",
          "model_name": "LayoutModel",
          "model_module_version": "1.2.0",
          "state": {
            "_view_name": "LayoutView",
            "grid_template_rows": null,
            "right": null,
            "justify_content": null,
            "_view_module": "@jupyter-widgets/base",
            "overflow": null,
            "_model_module_version": "1.2.0",
            "_view_count": null,
            "flex_flow": null,
            "width": null,
            "min_width": null,
            "border": null,
            "align_items": null,
            "bottom": null,
            "_model_module": "@jupyter-widgets/base",
            "top": null,
            "grid_column": null,
            "overflow_y": null,
            "overflow_x": null,
            "grid_auto_flow": null,
            "grid_area": null,
            "grid_template_columns": null,
            "flex": null,
            "_model_name": "LayoutModel",
            "justify_items": null,
            "grid_row": null,
            "max_height": null,
            "align_content": null,
            "visibility": null,
            "align_self": null,
            "height": null,
            "min_height": null,
            "padding": null,
            "grid_auto_rows": null,
            "grid_gap": null,
            "max_width": null,
            "order": null,
            "_view_module_version": "1.2.0",
            "grid_template_areas": null,
            "object_position": null,
            "object_fit": null,
            "grid_auto_columns": null,
            "margin": null,
            "display": null,
            "left": null
          }
        },
        "adf8f8c27709401fac2d4b8cf8f63c73": {
          "model_module": "@jupyter-widgets/controls",
          "model_name": "HTMLModel",
          "model_module_version": "1.5.0",
          "state": {
            "_view_name": "HTMLView",
            "style": "IPY_MODEL_46656cb1b2944d4780f5bdc427af175d",
            "_dom_classes": [],
            "description": "",
            "_model_name": "HTMLModel",
            "placeholder": "​",
            "_view_module": "@jupyter-widgets/controls",
            "_model_module_version": "1.5.0",
            "value": "100%",
            "_view_count": null,
            "_view_module_version": "1.5.0",
            "description_tooltip": null,
            "_model_module": "@jupyter-widgets/controls",
            "layout": "IPY_MODEL_68b0508ce66449ab8603f439fd8360ed"
          }
        },
        "3cea1b0adb5348bfaf524d8b4a2cecbf": {
          "model_module": "@jupyter-widgets/controls",
          "model_name": "FloatProgressModel",
          "model_module_version": "1.5.0",
          "state": {
            "_view_name": "ProgressView",
            "style": "IPY_MODEL_15f6eefd84f64f02b41fab3078b520f2",
            "_dom_classes": [],
            "description": "",
            "_model_name": "FloatProgressModel",
            "bar_style": "success",
            "max": 2,
            "_view_module": "@jupyter-widgets/controls",
            "_model_module_version": "1.5.0",
            "value": 2,
            "_view_count": null,
            "_view_module_version": "1.5.0",
            "orientation": "horizontal",
            "min": 0,
            "description_tooltip": null,
            "_model_module": "@jupyter-widgets/controls",
            "layout": "IPY_MODEL_409ed314c6f249419dfdb74042ff73dd"
          }
        },
        "8b3816333ab346b5895d1a2aad9eeeea": {
          "model_module": "@jupyter-widgets/controls",
          "model_name": "HTMLModel",
          "model_module_version": "1.5.0",
          "state": {
            "_view_name": "HTMLView",
            "style": "IPY_MODEL_bf0044eb2c2b4876a16fde77b0673ed6",
            "_dom_classes": [],
            "description": "",
            "_model_name": "HTMLModel",
            "placeholder": "​",
            "_view_module": "@jupyter-widgets/controls",
            "_model_module_version": "1.5.0",
            "value": " 2/2 [21:31&lt;00:00, 645.56s/it]",
            "_view_count": null,
            "_view_module_version": "1.5.0",
            "description_tooltip": null,
            "_model_module": "@jupyter-widgets/controls",
            "layout": "IPY_MODEL_1b3999280e0a4f53934d6a8a1b2b5638"
          }
        },
        "46656cb1b2944d4780f5bdc427af175d": {
          "model_module": "@jupyter-widgets/controls",
          "model_name": "DescriptionStyleModel",
          "model_module_version": "1.5.0",
          "state": {
            "_view_name": "StyleView",
            "_model_name": "DescriptionStyleModel",
            "description_width": "",
            "_view_module": "@jupyter-widgets/base",
            "_model_module_version": "1.5.0",
            "_view_count": null,
            "_view_module_version": "1.2.0",
            "_model_module": "@jupyter-widgets/controls"
          }
        },
        "68b0508ce66449ab8603f439fd8360ed": {
          "model_module": "@jupyter-widgets/base",
          "model_name": "LayoutModel",
          "model_module_version": "1.2.0",
          "state": {
            "_view_name": "LayoutView",
            "grid_template_rows": null,
            "right": null,
            "justify_content": null,
            "_view_module": "@jupyter-widgets/base",
            "overflow": null,
            "_model_module_version": "1.2.0",
            "_view_count": null,
            "flex_flow": null,
            "width": null,
            "min_width": null,
            "border": null,
            "align_items": null,
            "bottom": null,
            "_model_module": "@jupyter-widgets/base",
            "top": null,
            "grid_column": null,
            "overflow_y": null,
            "overflow_x": null,
            "grid_auto_flow": null,
            "grid_area": null,
            "grid_template_columns": null,
            "flex": null,
            "_model_name": "LayoutModel",
            "justify_items": null,
            "grid_row": null,
            "max_height": null,
            "align_content": null,
            "visibility": null,
            "align_self": null,
            "height": null,
            "min_height": null,
            "padding": null,
            "grid_auto_rows": null,
            "grid_gap": null,
            "max_width": null,
            "order": null,
            "_view_module_version": "1.2.0",
            "grid_template_areas": null,
            "object_position": null,
            "object_fit": null,
            "grid_auto_columns": null,
            "margin": null,
            "display": null,
            "left": null
          }
        },
        "15f6eefd84f64f02b41fab3078b520f2": {
          "model_module": "@jupyter-widgets/controls",
          "model_name": "ProgressStyleModel",
          "model_module_version": "1.5.0",
          "state": {
            "_view_name": "StyleView",
            "_model_name": "ProgressStyleModel",
            "description_width": "",
            "_view_module": "@jupyter-widgets/base",
            "_model_module_version": "1.5.0",
            "_view_count": null,
            "_view_module_version": "1.2.0",
            "bar_color": null,
            "_model_module": "@jupyter-widgets/controls"
          }
        },
        "409ed314c6f249419dfdb74042ff73dd": {
          "model_module": "@jupyter-widgets/base",
          "model_name": "LayoutModel",
          "model_module_version": "1.2.0",
          "state": {
            "_view_name": "LayoutView",
            "grid_template_rows": null,
            "right": null,
            "justify_content": null,
            "_view_module": "@jupyter-widgets/base",
            "overflow": null,
            "_model_module_version": "1.2.0",
            "_view_count": null,
            "flex_flow": null,
            "width": null,
            "min_width": null,
            "border": null,
            "align_items": null,
            "bottom": null,
            "_model_module": "@jupyter-widgets/base",
            "top": null,
            "grid_column": null,
            "overflow_y": null,
            "overflow_x": null,
            "grid_auto_flow": null,
            "grid_area": null,
            "grid_template_columns": null,
            "flex": null,
            "_model_name": "LayoutModel",
            "justify_items": null,
            "grid_row": null,
            "max_height": null,
            "align_content": null,
            "visibility": null,
            "align_self": null,
            "height": null,
            "min_height": null,
            "padding": null,
            "grid_auto_rows": null,
            "grid_gap": null,
            "max_width": null,
            "order": null,
            "_view_module_version": "1.2.0",
            "grid_template_areas": null,
            "object_position": null,
            "object_fit": null,
            "grid_auto_columns": null,
            "margin": null,
            "display": null,
            "left": null
          }
        },
        "bf0044eb2c2b4876a16fde77b0673ed6": {
          "model_module": "@jupyter-widgets/controls",
          "model_name": "DescriptionStyleModel",
          "model_module_version": "1.5.0",
          "state": {
            "_view_name": "StyleView",
            "_model_name": "DescriptionStyleModel",
            "description_width": "",
            "_view_module": "@jupyter-widgets/base",
            "_model_module_version": "1.5.0",
            "_view_count": null,
            "_view_module_version": "1.2.0",
            "_model_module": "@jupyter-widgets/controls"
          }
        },
        "1b3999280e0a4f53934d6a8a1b2b5638": {
          "model_module": "@jupyter-widgets/base",
          "model_name": "LayoutModel",
          "model_module_version": "1.2.0",
          "state": {
            "_view_name": "LayoutView",
            "grid_template_rows": null,
            "right": null,
            "justify_content": null,
            "_view_module": "@jupyter-widgets/base",
            "overflow": null,
            "_model_module_version": "1.2.0",
            "_view_count": null,
            "flex_flow": null,
            "width": null,
            "min_width": null,
            "border": null,
            "align_items": null,
            "bottom": null,
            "_model_module": "@jupyter-widgets/base",
            "top": null,
            "grid_column": null,
            "overflow_y": null,
            "overflow_x": null,
            "grid_auto_flow": null,
            "grid_area": null,
            "grid_template_columns": null,
            "flex": null,
            "_model_name": "LayoutModel",
            "justify_items": null,
            "grid_row": null,
            "max_height": null,
            "align_content": null,
            "visibility": null,
            "align_self": null,
            "height": null,
            "min_height": null,
            "padding": null,
            "grid_auto_rows": null,
            "grid_gap": null,
            "max_width": null,
            "order": null,
            "_view_module_version": "1.2.0",
            "grid_template_areas": null,
            "object_position": null,
            "object_fit": null,
            "grid_auto_columns": null,
            "margin": null,
            "display": null,
            "left": null
          }
        },
        "a9871604ea5c4b8ca0f1becf2d276c62": {
          "model_module": "@jupyter-widgets/controls",
          "model_name": "HBoxModel",
          "model_module_version": "1.5.0",
          "state": {
            "_view_name": "HBoxView",
            "_dom_classes": [],
            "_model_name": "HBoxModel",
            "_view_module": "@jupyter-widgets/controls",
            "_model_module_version": "1.5.0",
            "_view_count": null,
            "_view_module_version": "1.5.0",
            "box_style": "",
            "layout": "IPY_MODEL_df60a91f97c74dcf8b7dba0d440513ab",
            "_model_module": "@jupyter-widgets/controls",
            "children": [
              "IPY_MODEL_3bfaf811476a473b8289f8bc705e876b",
              "IPY_MODEL_650f81bb3177490dad4154955c4f7cea",
              "IPY_MODEL_74f5bdbcd9484574becfe5d0f6cf1486"
            ]
          }
        },
        "df60a91f97c74dcf8b7dba0d440513ab": {
          "model_module": "@jupyter-widgets/base",
          "model_name": "LayoutModel",
          "model_module_version": "1.2.0",
          "state": {
            "_view_name": "LayoutView",
            "grid_template_rows": null,
            "right": null,
            "justify_content": null,
            "_view_module": "@jupyter-widgets/base",
            "overflow": null,
            "_model_module_version": "1.2.0",
            "_view_count": null,
            "flex_flow": null,
            "width": null,
            "min_width": null,
            "border": null,
            "align_items": null,
            "bottom": null,
            "_model_module": "@jupyter-widgets/base",
            "top": null,
            "grid_column": null,
            "overflow_y": null,
            "overflow_x": null,
            "grid_auto_flow": null,
            "grid_area": null,
            "grid_template_columns": null,
            "flex": null,
            "_model_name": "LayoutModel",
            "justify_items": null,
            "grid_row": null,
            "max_height": null,
            "align_content": null,
            "visibility": null,
            "align_self": null,
            "height": null,
            "min_height": null,
            "padding": null,
            "grid_auto_rows": null,
            "grid_gap": null,
            "max_width": null,
            "order": null,
            "_view_module_version": "1.2.0",
            "grid_template_areas": null,
            "object_position": null,
            "object_fit": null,
            "grid_auto_columns": null,
            "margin": null,
            "display": null,
            "left": null
          }
        },
        "3bfaf811476a473b8289f8bc705e876b": {
          "model_module": "@jupyter-widgets/controls",
          "model_name": "HTMLModel",
          "model_module_version": "1.5.0",
          "state": {
            "_view_name": "HTMLView",
            "style": "IPY_MODEL_f4d6672fa77541d384c3967297afe62e",
            "_dom_classes": [],
            "description": "",
            "_model_name": "HTMLModel",
            "placeholder": "​",
            "_view_module": "@jupyter-widgets/controls",
            "_model_module_version": "1.5.0",
            "value": "",
            "_view_count": null,
            "_view_module_version": "1.5.0",
            "description_tooltip": null,
            "_model_module": "@jupyter-widgets/controls",
            "layout": "IPY_MODEL_882176b9bbcd436c9983ae5b662d0284"
          }
        },
        "650f81bb3177490dad4154955c4f7cea": {
          "model_module": "@jupyter-widgets/controls",
          "model_name": "FloatProgressModel",
          "model_module_version": "1.5.0",
          "state": {
            "_view_name": "ProgressView",
            "style": "IPY_MODEL_f118446acba84613ad647b732c3c7358",
            "_dom_classes": [],
            "description": "",
            "_model_name": "FloatProgressModel",
            "bar_style": "success",
            "max": 437.5,
            "_view_module": "@jupyter-widgets/controls",
            "_model_module_version": "1.5.0",
            "value": 437.5,
            "_view_count": null,
            "_view_module_version": "1.5.0",
            "orientation": "horizontal",
            "min": 0,
            "description_tooltip": null,
            "_model_module": "@jupyter-widgets/controls",
            "layout": "IPY_MODEL_b7174e6503ce46e5b9e74d92d4b096dc"
          }
        },
        "74f5bdbcd9484574becfe5d0f6cf1486": {
          "model_module": "@jupyter-widgets/controls",
          "model_name": "HTMLModel",
          "model_module_version": "1.5.0",
          "state": {
            "_view_name": "HTMLView",
            "style": "IPY_MODEL_03e30f0e62ce484b92bffe0752824b95",
            "_dom_classes": [],
            "description": "",
            "_model_name": "HTMLModel",
            "placeholder": "​",
            "_view_module": "@jupyter-widgets/controls",
            "_model_module_version": "1.5.0",
            "value": " 438/? [09:56&lt;00:00,  1.17s/it]",
            "_view_count": null,
            "_view_module_version": "1.5.0",
            "description_tooltip": null,
            "_model_module": "@jupyter-widgets/controls",
            "layout": "IPY_MODEL_775e71a17c9e447e9d50d333203ff936"
          }
        },
        "f4d6672fa77541d384c3967297afe62e": {
          "model_module": "@jupyter-widgets/controls",
          "model_name": "DescriptionStyleModel",
          "model_module_version": "1.5.0",
          "state": {
            "_view_name": "StyleView",
            "_model_name": "DescriptionStyleModel",
            "description_width": "",
            "_view_module": "@jupyter-widgets/base",
            "_model_module_version": "1.5.0",
            "_view_count": null,
            "_view_module_version": "1.2.0",
            "_model_module": "@jupyter-widgets/controls"
          }
        },
        "882176b9bbcd436c9983ae5b662d0284": {
          "model_module": "@jupyter-widgets/base",
          "model_name": "LayoutModel",
          "model_module_version": "1.2.0",
          "state": {
            "_view_name": "LayoutView",
            "grid_template_rows": null,
            "right": null,
            "justify_content": null,
            "_view_module": "@jupyter-widgets/base",
            "overflow": null,
            "_model_module_version": "1.2.0",
            "_view_count": null,
            "flex_flow": null,
            "width": null,
            "min_width": null,
            "border": null,
            "align_items": null,
            "bottom": null,
            "_model_module": "@jupyter-widgets/base",
            "top": null,
            "grid_column": null,
            "overflow_y": null,
            "overflow_x": null,
            "grid_auto_flow": null,
            "grid_area": null,
            "grid_template_columns": null,
            "flex": null,
            "_model_name": "LayoutModel",
            "justify_items": null,
            "grid_row": null,
            "max_height": null,
            "align_content": null,
            "visibility": null,
            "align_self": null,
            "height": null,
            "min_height": null,
            "padding": null,
            "grid_auto_rows": null,
            "grid_gap": null,
            "max_width": null,
            "order": null,
            "_view_module_version": "1.2.0",
            "grid_template_areas": null,
            "object_position": null,
            "object_fit": null,
            "grid_auto_columns": null,
            "margin": null,
            "display": null,
            "left": null
          }
        },
        "f118446acba84613ad647b732c3c7358": {
          "model_module": "@jupyter-widgets/controls",
          "model_name": "ProgressStyleModel",
          "model_module_version": "1.5.0",
          "state": {
            "_view_name": "StyleView",
            "_model_name": "ProgressStyleModel",
            "description_width": "",
            "_view_module": "@jupyter-widgets/base",
            "_model_module_version": "1.5.0",
            "_view_count": null,
            "_view_module_version": "1.2.0",
            "bar_color": null,
            "_model_module": "@jupyter-widgets/controls"
          }
        },
        "b7174e6503ce46e5b9e74d92d4b096dc": {
          "model_module": "@jupyter-widgets/base",
          "model_name": "LayoutModel",
          "model_module_version": "1.2.0",
          "state": {
            "_view_name": "LayoutView",
            "grid_template_rows": null,
            "right": null,
            "justify_content": null,
            "_view_module": "@jupyter-widgets/base",
            "overflow": null,
            "_model_module_version": "1.2.0",
            "_view_count": null,
            "flex_flow": null,
            "width": null,
            "min_width": null,
            "border": null,
            "align_items": null,
            "bottom": null,
            "_model_module": "@jupyter-widgets/base",
            "top": null,
            "grid_column": null,
            "overflow_y": null,
            "overflow_x": null,
            "grid_auto_flow": null,
            "grid_area": null,
            "grid_template_columns": null,
            "flex": null,
            "_model_name": "LayoutModel",
            "justify_items": null,
            "grid_row": null,
            "max_height": null,
            "align_content": null,
            "visibility": null,
            "align_self": null,
            "height": null,
            "min_height": null,
            "padding": null,
            "grid_auto_rows": null,
            "grid_gap": null,
            "max_width": null,
            "order": null,
            "_view_module_version": "1.2.0",
            "grid_template_areas": null,
            "object_position": null,
            "object_fit": null,
            "grid_auto_columns": null,
            "margin": null,
            "display": null,
            "left": null
          }
        },
        "03e30f0e62ce484b92bffe0752824b95": {
          "model_module": "@jupyter-widgets/controls",
          "model_name": "DescriptionStyleModel",
          "model_module_version": "1.5.0",
          "state": {
            "_view_name": "StyleView",
            "_model_name": "DescriptionStyleModel",
            "description_width": "",
            "_view_module": "@jupyter-widgets/base",
            "_model_module_version": "1.5.0",
            "_view_count": null,
            "_view_module_version": "1.2.0",
            "_model_module": "@jupyter-widgets/controls"
          }
        },
        "775e71a17c9e447e9d50d333203ff936": {
          "model_module": "@jupyter-widgets/base",
          "model_name": "LayoutModel",
          "model_module_version": "1.2.0",
          "state": {
            "_view_name": "LayoutView",
            "grid_template_rows": null,
            "right": null,
            "justify_content": null,
            "_view_module": "@jupyter-widgets/base",
            "overflow": null,
            "_model_module_version": "1.2.0",
            "_view_count": null,
            "flex_flow": null,
            "width": null,
            "min_width": null,
            "border": null,
            "align_items": null,
            "bottom": null,
            "_model_module": "@jupyter-widgets/base",
            "top": null,
            "grid_column": null,
            "overflow_y": null,
            "overflow_x": null,
            "grid_auto_flow": null,
            "grid_area": null,
            "grid_template_columns": null,
            "flex": null,
            "_model_name": "LayoutModel",
            "justify_items": null,
            "grid_row": null,
            "max_height": null,
            "align_content": null,
            "visibility": null,
            "align_self": null,
            "height": null,
            "min_height": null,
            "padding": null,
            "grid_auto_rows": null,
            "grid_gap": null,
            "max_width": null,
            "order": null,
            "_view_module_version": "1.2.0",
            "grid_template_areas": null,
            "object_position": null,
            "object_fit": null,
            "grid_auto_columns": null,
            "margin": null,
            "display": null,
            "left": null
          }
        },
        "fcd0e8a438824e37800df1631afcf096": {
          "model_module": "@jupyter-widgets/controls",
          "model_name": "HBoxModel",
          "model_module_version": "1.5.0",
          "state": {
            "_view_name": "HBoxView",
            "_dom_classes": [],
            "_model_name": "HBoxModel",
            "_view_module": "@jupyter-widgets/controls",
            "_model_module_version": "1.5.0",
            "_view_count": null,
            "_view_module_version": "1.5.0",
            "box_style": "",
            "layout": "IPY_MODEL_0ca635d38d2b42afb6a1c9ee24c44faf",
            "_model_module": "@jupyter-widgets/controls",
            "children": [
              "IPY_MODEL_78d269ea517d4b24a408eb27bb645a43",
              "IPY_MODEL_e8d901e0224c4145b986b6eec9245da2",
              "IPY_MODEL_3cc2f82940f14a458ddb3ef9603570e5"
            ]
          }
        },
        "0ca635d38d2b42afb6a1c9ee24c44faf": {
          "model_module": "@jupyter-widgets/base",
          "model_name": "LayoutModel",
          "model_module_version": "1.2.0",
          "state": {
            "_view_name": "LayoutView",
            "grid_template_rows": null,
            "right": null,
            "justify_content": null,
            "_view_module": "@jupyter-widgets/base",
            "overflow": null,
            "_model_module_version": "1.2.0",
            "_view_count": null,
            "flex_flow": null,
            "width": null,
            "min_width": null,
            "border": null,
            "align_items": null,
            "bottom": null,
            "_model_module": "@jupyter-widgets/base",
            "top": null,
            "grid_column": null,
            "overflow_y": null,
            "overflow_x": null,
            "grid_auto_flow": null,
            "grid_area": null,
            "grid_template_columns": null,
            "flex": null,
            "_model_name": "LayoutModel",
            "justify_items": null,
            "grid_row": null,
            "max_height": null,
            "align_content": null,
            "visibility": null,
            "align_self": null,
            "height": null,
            "min_height": null,
            "padding": null,
            "grid_auto_rows": null,
            "grid_gap": null,
            "max_width": null,
            "order": null,
            "_view_module_version": "1.2.0",
            "grid_template_areas": null,
            "object_position": null,
            "object_fit": null,
            "grid_auto_columns": null,
            "margin": null,
            "display": null,
            "left": null
          }
        },
        "78d269ea517d4b24a408eb27bb645a43": {
          "model_module": "@jupyter-widgets/controls",
          "model_name": "HTMLModel",
          "model_module_version": "1.5.0",
          "state": {
            "_view_name": "HTMLView",
            "style": "IPY_MODEL_dc51556a4c48414bacc32ea3f2051815",
            "_dom_classes": [],
            "description": "",
            "_model_name": "HTMLModel",
            "placeholder": "​",
            "_view_module": "@jupyter-widgets/controls",
            "_model_module_version": "1.5.0",
            "value": "",
            "_view_count": null,
            "_view_module_version": "1.5.0",
            "description_tooltip": null,
            "_model_module": "@jupyter-widgets/controls",
            "layout": "IPY_MODEL_3330c249de98414f857f1ec8607f8fa3"
          }
        },
        "e8d901e0224c4145b986b6eec9245da2": {
          "model_module": "@jupyter-widgets/controls",
          "model_name": "FloatProgressModel",
          "model_module_version": "1.5.0",
          "state": {
            "_view_name": "ProgressView",
            "style": "IPY_MODEL_1ab4600033c343c89b70b29803b89437",
            "_dom_classes": [],
            "description": "",
            "_model_name": "FloatProgressModel",
            "bar_style": "success",
            "max": 437.5,
            "_view_module": "@jupyter-widgets/controls",
            "_model_module_version": "1.5.0",
            "value": 437.5,
            "_view_count": null,
            "_view_module_version": "1.5.0",
            "orientation": "horizontal",
            "min": 0,
            "description_tooltip": null,
            "_model_module": "@jupyter-widgets/controls",
            "layout": "IPY_MODEL_b21fde71e7d541f29948e0faa4c51236"
          }
        },
        "3cc2f82940f14a458ddb3ef9603570e5": {
          "model_module": "@jupyter-widgets/controls",
          "model_name": "HTMLModel",
          "model_module_version": "1.5.0",
          "state": {
            "_view_name": "HTMLView",
            "style": "IPY_MODEL_b1c22d36e7b2472ebe724842d49a85ec",
            "_dom_classes": [],
            "description": "",
            "_model_name": "HTMLModel",
            "placeholder": "​",
            "_view_module": "@jupyter-widgets/controls",
            "_model_module_version": "1.5.0",
            "value": " 438/? [09:56&lt;00:00,  1.17s/it]",
            "_view_count": null,
            "_view_module_version": "1.5.0",
            "description_tooltip": null,
            "_model_module": "@jupyter-widgets/controls",
            "layout": "IPY_MODEL_62237d8e9a0f4953812647b6d9e1d377"
          }
        },
        "dc51556a4c48414bacc32ea3f2051815": {
          "model_module": "@jupyter-widgets/controls",
          "model_name": "DescriptionStyleModel",
          "model_module_version": "1.5.0",
          "state": {
            "_view_name": "StyleView",
            "_model_name": "DescriptionStyleModel",
            "description_width": "",
            "_view_module": "@jupyter-widgets/base",
            "_model_module_version": "1.5.0",
            "_view_count": null,
            "_view_module_version": "1.2.0",
            "_model_module": "@jupyter-widgets/controls"
          }
        },
        "3330c249de98414f857f1ec8607f8fa3": {
          "model_module": "@jupyter-widgets/base",
          "model_name": "LayoutModel",
          "model_module_version": "1.2.0",
          "state": {
            "_view_name": "LayoutView",
            "grid_template_rows": null,
            "right": null,
            "justify_content": null,
            "_view_module": "@jupyter-widgets/base",
            "overflow": null,
            "_model_module_version": "1.2.0",
            "_view_count": null,
            "flex_flow": null,
            "width": null,
            "min_width": null,
            "border": null,
            "align_items": null,
            "bottom": null,
            "_model_module": "@jupyter-widgets/base",
            "top": null,
            "grid_column": null,
            "overflow_y": null,
            "overflow_x": null,
            "grid_auto_flow": null,
            "grid_area": null,
            "grid_template_columns": null,
            "flex": null,
            "_model_name": "LayoutModel",
            "justify_items": null,
            "grid_row": null,
            "max_height": null,
            "align_content": null,
            "visibility": null,
            "align_self": null,
            "height": null,
            "min_height": null,
            "padding": null,
            "grid_auto_rows": null,
            "grid_gap": null,
            "max_width": null,
            "order": null,
            "_view_module_version": "1.2.0",
            "grid_template_areas": null,
            "object_position": null,
            "object_fit": null,
            "grid_auto_columns": null,
            "margin": null,
            "display": null,
            "left": null
          }
        },
        "1ab4600033c343c89b70b29803b89437": {
          "model_module": "@jupyter-widgets/controls",
          "model_name": "ProgressStyleModel",
          "model_module_version": "1.5.0",
          "state": {
            "_view_name": "StyleView",
            "_model_name": "ProgressStyleModel",
            "description_width": "",
            "_view_module": "@jupyter-widgets/base",
            "_model_module_version": "1.5.0",
            "_view_count": null,
            "_view_module_version": "1.2.0",
            "bar_color": null,
            "_model_module": "@jupyter-widgets/controls"
          }
        },
        "b21fde71e7d541f29948e0faa4c51236": {
          "model_module": "@jupyter-widgets/base",
          "model_name": "LayoutModel",
          "model_module_version": "1.2.0",
          "state": {
            "_view_name": "LayoutView",
            "grid_template_rows": null,
            "right": null,
            "justify_content": null,
            "_view_module": "@jupyter-widgets/base",
            "overflow": null,
            "_model_module_version": "1.2.0",
            "_view_count": null,
            "flex_flow": null,
            "width": null,
            "min_width": null,
            "border": null,
            "align_items": null,
            "bottom": null,
            "_model_module": "@jupyter-widgets/base",
            "top": null,
            "grid_column": null,
            "overflow_y": null,
            "overflow_x": null,
            "grid_auto_flow": null,
            "grid_area": null,
            "grid_template_columns": null,
            "flex": null,
            "_model_name": "LayoutModel",
            "justify_items": null,
            "grid_row": null,
            "max_height": null,
            "align_content": null,
            "visibility": null,
            "align_self": null,
            "height": null,
            "min_height": null,
            "padding": null,
            "grid_auto_rows": null,
            "grid_gap": null,
            "max_width": null,
            "order": null,
            "_view_module_version": "1.2.0",
            "grid_template_areas": null,
            "object_position": null,
            "object_fit": null,
            "grid_auto_columns": null,
            "margin": null,
            "display": null,
            "left": null
          }
        },
        "b1c22d36e7b2472ebe724842d49a85ec": {
          "model_module": "@jupyter-widgets/controls",
          "model_name": "DescriptionStyleModel",
          "model_module_version": "1.5.0",
          "state": {
            "_view_name": "StyleView",
            "_model_name": "DescriptionStyleModel",
            "description_width": "",
            "_view_module": "@jupyter-widgets/base",
            "_model_module_version": "1.5.0",
            "_view_count": null,
            "_view_module_version": "1.2.0",
            "_model_module": "@jupyter-widgets/controls"
          }
        },
        "62237d8e9a0f4953812647b6d9e1d377": {
          "model_module": "@jupyter-widgets/base",
          "model_name": "LayoutModel",
          "model_module_version": "1.2.0",
          "state": {
            "_view_name": "LayoutView",
            "grid_template_rows": null,
            "right": null,
            "justify_content": null,
            "_view_module": "@jupyter-widgets/base",
            "overflow": null,
            "_model_module_version": "1.2.0",
            "_view_count": null,
            "flex_flow": null,
            "width": null,
            "min_width": null,
            "border": null,
            "align_items": null,
            "bottom": null,
            "_model_module": "@jupyter-widgets/base",
            "top": null,
            "grid_column": null,
            "overflow_y": null,
            "overflow_x": null,
            "grid_auto_flow": null,
            "grid_area": null,
            "grid_template_columns": null,
            "flex": null,
            "_model_name": "LayoutModel",
            "justify_items": null,
            "grid_row": null,
            "max_height": null,
            "align_content": null,
            "visibility": null,
            "align_self": null,
            "height": null,
            "min_height": null,
            "padding": null,
            "grid_auto_rows": null,
            "grid_gap": null,
            "max_width": null,
            "order": null,
            "_view_module_version": "1.2.0",
            "grid_template_areas": null,
            "object_position": null,
            "object_fit": null,
            "grid_auto_columns": null,
            "margin": null,
            "display": null,
            "left": null
          }
        }
      }
    }
  },
  "cells": [
    {
      "cell_type": "markdown",
      "metadata": {
        "id": "Fmf6YAZyUBlk"
      },
      "source": [
        "# Env Setup"
      ]
    },
    {
      "cell_type": "markdown",
      "metadata": {
        "id": "_n2_aiUQUE0S"
      },
      "source": [
        "## Packages"
      ]
    },
    {
      "cell_type": "code",
      "metadata": {
        "colab": {
          "base_uri": "https://localhost:8080/"
        },
        "id": "bnkp4cSGW1uu",
        "outputId": "a457f789-da29-48bf-cfb5-07767b6421d5"
      },
      "source": [
        "!pip install transformers"
      ],
      "execution_count": null,
      "outputs": [
        {
          "output_type": "stream",
          "text": [
            "Collecting transformers\n",
            "  Downloading transformers-4.9.2-py3-none-any.whl (2.6 MB)\n",
            "\u001b[K     |████████████████████████████████| 2.6 MB 4.0 MB/s \n",
            "\u001b[?25hCollecting pyyaml>=5.1\n",
            "  Downloading PyYAML-5.4.1-cp37-cp37m-manylinux1_x86_64.whl (636 kB)\n",
            "\u001b[K     |████████████████████████████████| 636 kB 45.2 MB/s \n",
            "\u001b[?25hRequirement already satisfied: tqdm>=4.27 in /usr/local/lib/python3.7/dist-packages (from transformers) (4.62.0)\n",
            "Requirement already satisfied: regex!=2019.12.17 in /usr/local/lib/python3.7/dist-packages (from transformers) (2019.12.20)\n",
            "Requirement already satisfied: importlib-metadata in /usr/local/lib/python3.7/dist-packages (from transformers) (4.6.4)\n",
            "Collecting huggingface-hub==0.0.12\n",
            "  Downloading huggingface_hub-0.0.12-py3-none-any.whl (37 kB)\n",
            "Requirement already satisfied: filelock in /usr/local/lib/python3.7/dist-packages (from transformers) (3.0.12)\n",
            "Collecting tokenizers<0.11,>=0.10.1\n",
            "  Downloading tokenizers-0.10.3-cp37-cp37m-manylinux_2_5_x86_64.manylinux1_x86_64.manylinux_2_12_x86_64.manylinux2010_x86_64.whl (3.3 MB)\n",
            "\u001b[K     |████████████████████████████████| 3.3 MB 49.9 MB/s \n",
            "\u001b[?25hRequirement already satisfied: numpy>=1.17 in /usr/local/lib/python3.7/dist-packages (from transformers) (1.19.5)\n",
            "Collecting sacremoses\n",
            "  Downloading sacremoses-0.0.45-py3-none-any.whl (895 kB)\n",
            "\u001b[K     |████████████████████████████████| 895 kB 41.5 MB/s \n",
            "\u001b[?25hRequirement already satisfied: requests in /usr/local/lib/python3.7/dist-packages (from transformers) (2.23.0)\n",
            "Requirement already satisfied: packaging in /usr/local/lib/python3.7/dist-packages (from transformers) (21.0)\n",
            "Requirement already satisfied: typing-extensions in /usr/local/lib/python3.7/dist-packages (from huggingface-hub==0.0.12->transformers) (3.7.4.3)\n",
            "Requirement already satisfied: pyparsing>=2.0.2 in /usr/local/lib/python3.7/dist-packages (from packaging->transformers) (2.4.7)\n",
            "Requirement already satisfied: zipp>=0.5 in /usr/local/lib/python3.7/dist-packages (from importlib-metadata->transformers) (3.5.0)\n",
            "Requirement already satisfied: idna<3,>=2.5 in /usr/local/lib/python3.7/dist-packages (from requests->transformers) (2.10)\n",
            "Requirement already satisfied: certifi>=2017.4.17 in /usr/local/lib/python3.7/dist-packages (from requests->transformers) (2021.5.30)\n",
            "Requirement already satisfied: urllib3!=1.25.0,!=1.25.1,<1.26,>=1.21.1 in /usr/local/lib/python3.7/dist-packages (from requests->transformers) (1.24.3)\n",
            "Requirement already satisfied: chardet<4,>=3.0.2 in /usr/local/lib/python3.7/dist-packages (from requests->transformers) (3.0.4)\n",
            "Requirement already satisfied: joblib in /usr/local/lib/python3.7/dist-packages (from sacremoses->transformers) (1.0.1)\n",
            "Requirement already satisfied: click in /usr/local/lib/python3.7/dist-packages (from sacremoses->transformers) (7.1.2)\n",
            "Requirement already satisfied: six in /usr/local/lib/python3.7/dist-packages (from sacremoses->transformers) (1.15.0)\n",
            "Installing collected packages: tokenizers, sacremoses, pyyaml, huggingface-hub, transformers\n",
            "  Attempting uninstall: pyyaml\n",
            "    Found existing installation: PyYAML 3.13\n",
            "    Uninstalling PyYAML-3.13:\n",
            "      Successfully uninstalled PyYAML-3.13\n",
            "Successfully installed huggingface-hub-0.0.12 pyyaml-5.4.1 sacremoses-0.0.45 tokenizers-0.10.3 transformers-4.9.2\n"
          ],
          "name": "stdout"
        }
      ]
    },
    {
      "cell_type": "code",
      "metadata": {
        "id": "QWBDDNnlWuKE",
        "colab": {
          "base_uri": "https://localhost:8080/"
        },
        "outputId": "f37f4bba-a4d3-4312-c5d0-bdd05176c843"
      },
      "source": [
        "import numpy as np\n",
        "import pandas as pd\n",
        "\n",
        "from imblearn.under_sampling import RandomUnderSampler\n",
        "\n",
        "from sklearn.model_selection import train_test_split\n",
        "from sklearn import metrics\n",
        "\n",
        "import torch\n",
        "import torch.nn as nn\n",
        "from torch.utils.data import DataLoader\n",
        "from torch.utils.data import TensorDataset\n",
        "\n",
        "from transformers import BertTokenizer\n",
        "from transformers import BertForSequenceClassification\n",
        "from transformers import AdamW\n",
        "from transformers import BertConfig\n",
        "from transformers import get_linear_schedule_with_warmup\n",
        "from transformers import BertModel\n",
        "\n",
        "from tqdm import tqdm\n",
        "from tqdm.notebook import tqdm\n",
        "\n",
        "\n",
        "from datetime import datetime\n",
        "from dateutil.relativedelta import relativedelta\n",
        "\n",
        "from sklearn.metrics import accuracy_score\n",
        "\n",
        "import warnings\n",
        "warnings.filterwarnings('ignore')\n",
        "\n",
        "import matplotlib.pyplot as plt"
      ],
      "execution_count": null,
      "outputs": [
        {
          "output_type": "stream",
          "text": [
            "/usr/local/lib/python3.7/dist-packages/sklearn/externals/six.py:31: FutureWarning: The module is deprecated in version 0.21 and will be removed in version 0.23 since we've dropped support for Python 2.7. Please rely on the official version of six (https://pypi.org/project/six/).\n",
            "  \"(https://pypi.org/project/six/).\", FutureWarning)\n",
            "/usr/local/lib/python3.7/dist-packages/sklearn/utils/deprecation.py:144: FutureWarning: The sklearn.neighbors.base module is  deprecated in version 0.22 and will be removed in version 0.24. The corresponding classes / functions should instead be imported from sklearn.neighbors. Anything that cannot be imported from sklearn.neighbors is now part of the private API.\n",
            "  warnings.warn(message, FutureWarning)\n"
          ],
          "name": "stderr"
        }
      ]
    },
    {
      "cell_type": "markdown",
      "metadata": {
        "id": "K1Rb1TtSNTkQ"
      },
      "source": [
        "## Mount Drive and Read Data"
      ]
    },
    {
      "cell_type": "code",
      "metadata": {
        "id": "YtrG2LvplY7h"
      },
      "source": [
        "import pandas as pd\n",
        "import gzip\n",
        "import json\n",
        "\n",
        "def parse(path):\n",
        "  g = open(path, 'rb')\n",
        "  for l in g:\n",
        "    yield json.loads(l)\n",
        "\n",
        "def get_clean_df(path):\n",
        "  i = 0\n",
        "  df = {}\n",
        "  for d in parse(path):\n",
        "    df[i] = d\n",
        "    i += 1\n",
        "  \n",
        "  df_ = pd.DataFrame.from_dict(df, orient='index')\n",
        "  df = df_[['reviewText', 'overall']]\n",
        "  df = df.drop_duplicates()\n",
        "  df = df.dropna()\n",
        "\n",
        "  return df\n"
      ],
      "execution_count": null,
      "outputs": []
    },
    {
      "cell_type": "code",
      "metadata": {
        "id": "6808ekuNz2Vz",
        "colab": {
          "base_uri": "https://localhost:8080/"
        },
        "outputId": "43ad6058-d69a-4359-e944-2fd17426a4bf"
      },
      "source": [
        "from google.colab import drive\n",
        "drive.mount('/content/drive')"
      ],
      "execution_count": null,
      "outputs": [
        {
          "output_type": "stream",
          "text": [
            "Mounted at /content/drive\n"
          ],
          "name": "stdout"
        }
      ]
    },
    {
      "cell_type": "code",
      "metadata": {
        "id": "qpD-WbkepSga"
      },
      "source": [
        "df_appliances = get_clean_df('/content/drive/My Drive/Amazon reviews dataset/Appliances_5.json')\n",
        "df_giftcards = get_clean_df('/content/drive/My Drive/Amazon reviews dataset/Gift_Cards_5.json')\n",
        "df_software = get_clean_df('/content/drive/My Drive/Amazon reviews dataset/Software_5.json')\n",
        "df_arts = get_clean_df('/content/drive/My Drive/Amazon reviews dataset/Arts_Crafts_and_Sewing_5.json')\n",
        "df_beauty = get_clean_df('/content/drive/My Drive/Amazon reviews dataset/All_Beauty_5.json')\n",
        "df_magazine= get_clean_df('/content/drive/My Drive/Amazon reviews dataset/Magazine_Subscriptions_5.json')"
      ],
      "execution_count": null,
      "outputs": []
    },
    {
      "cell_type": "code",
      "metadata": {
        "id": "gkJwNbe5qe_T"
      },
      "source": [
        "df_presampling = df_appliances.append(df_magazine)\n",
        "df_presampling = df_presampling.append(df_software)\n",
        "df_presampling = df_presampling.append(df_giftcards)\n",
        "df_presampling = df_presampling.append(df_beauty)\n",
        "df_presampling = df_presampling.append(df_arts)\n",
        "df_presampling = df_presampling.drop_duplicates()"
      ],
      "execution_count": null,
      "outputs": []
    },
    {
      "cell_type": "code",
      "metadata": {
        "colab": {
          "base_uri": "https://localhost:8080/"
        },
        "id": "oqP8zLUigMKB",
        "outputId": "0c61c2a0-b789-4296-b86d-41a26e2620a9"
      },
      "source": [
        "df_presampling.overall.value_counts()"
      ],
      "execution_count": null,
      "outputs": [
        {
          "output_type": "execute_result",
          "data": {
            "text/plain": [
              "5.0    269794\n",
              "4.0     50478\n",
              "3.0     25206\n",
              "1.0     13436\n",
              "2.0     11608\n",
              "Name: overall, dtype: int64"
            ]
          },
          "metadata": {},
          "execution_count": 7
        }
      ]
    },
    {
      "cell_type": "markdown",
      "metadata": {
        "id": "5AmEEuH5N-M_"
      },
      "source": [
        "###Undersampling"
      ]
    },
    {
      "cell_type": "code",
      "metadata": {
        "colab": {
          "base_uri": "https://localhost:8080/"
        },
        "id": "kGwWoOQ7hX_0",
        "outputId": "58aa17a0-9eab-48e4-ab00-6899fe4ed621"
      },
      "source": [
        "rus = RandomUnderSampler(random_state=0)\n",
        "\n",
        "reviewText_array = np.reshape(df_presampling['reviewText'].values,(-1,1))\n",
        "overall_array = np.reshape(df_presampling['overall'].values,(-1,1))\n",
        "\n",
        "reviewText, overall = rus.fit_resample(reviewText_array, overall_array)\n",
        "reviewText = reviewText.flatten()\n",
        "overall = overall.flatten()\n",
        "\n",
        "df = pd.DataFrame(list(zip(reviewText, overall)),columns=('reviewText','overall'))\n",
        "df = df.drop_duplicates()\n",
        "df.overall.value_counts()"
      ],
      "execution_count": null,
      "outputs": [
        {
          "output_type": "execute_result",
          "data": {
            "text/plain": [
              "3.0    11608\n",
              "5.0    11608\n",
              "4.0    11608\n",
              "2.0    11608\n",
              "1.0    11608\n",
              "Name: overall, dtype: int64"
            ]
          },
          "metadata": {},
          "execution_count": 8
        }
      ]
    },
    {
      "cell_type": "markdown",
      "metadata": {
        "id": "Evg3lWacNgmt"
      },
      "source": [
        "# Classes & Functions"
      ]
    },
    {
      "cell_type": "markdown",
      "metadata": {
        "id": "FQctr7OPNaCu"
      },
      "source": [
        "## Data Class"
      ]
    },
    {
      "cell_type": "code",
      "metadata": {
        "id": "OPJBmCoFqinL"
      },
      "source": [
        "class Bert_data_prep:\n",
        "    def __init__(self,x, y, tokenizer, max_len = 256):\n",
        "        self.x = x.values\n",
        "        self.y = y.values\n",
        "        self.tokenizer = tokenizer\n",
        "        self.max_len = max_len\n",
        "\n",
        "    def __len__(self):\n",
        "        return(len(self.x))\n",
        "\n",
        "    def __getitem__(self, item):\n",
        "        x = self.x[item]\n",
        "    \n",
        "        x_encoded = tokenizer.encode_plus(x,\n",
        "                                        add_special_tokens=True, \n",
        "                                        max_length = max_len, \n",
        "                                        pad_to_max_length = True, \n",
        "                                        return_tensors = 'pt'\n",
        "                                        )  \n",
        "        \n",
        "        ids = x_encoded[\"input_ids\"]\n",
        "        mask = x_encoded[\"attention_mask\"]\n",
        "        token_type_ids = x_encoded[\"token_type_ids\"]\n",
        "\n",
        "        ids             = torch.squeeze(ids,0)\n",
        "        mask            = torch.squeeze(mask,0)\n",
        "        token_type_ids  = torch.squeeze(token_type_ids,0)\n",
        "\n",
        "        return {\n",
        "            'ids': torch.tensor(ids, dtype=torch.long),\n",
        "            'mask': torch.tensor(mask, dtype=torch.long),\n",
        "            'token_type_ids': torch.tensor(token_type_ids, dtype=torch.long),\n",
        "            'targets': torch.tensor(self.y[item], dtype=torch.long)\n",
        "        }"
      ],
      "execution_count": null,
      "outputs": []
    },
    {
      "cell_type": "markdown",
      "metadata": {
        "id": "hWPACLraY2MA"
      },
      "source": [
        "## Test Data Class\n"
      ]
    },
    {
      "cell_type": "code",
      "metadata": {
        "id": "pQN7vUpTQS4x"
      },
      "source": [
        "class test_data_prep:\n",
        "    def __init__(self, x, tokenizer, max_len = 256):\n",
        "        self.x = x.values\n",
        "        self.tokenizer = tokenizer\n",
        "        self.max_len = max_len\n",
        "\n",
        "    def __len__(self):\n",
        "        return(len(self.x))\n",
        "\n",
        "    def __getitem__(self, item):\n",
        "        x = self.x[item]\n",
        "    \n",
        "        x_encoded = tokenizer.encode_plus(x,\n",
        "                                        add_special_tokens=True, \n",
        "                                        max_length = max_len, \n",
        "                                        pad_to_max_length = True, \n",
        "                                        return_tensors = 'pt'\n",
        "                                        )  \n",
        "        \n",
        "        ids = x_encoded[\"input_ids\"]\n",
        "        mask = x_encoded[\"attention_mask\"]\n",
        "        token_type_ids = x_encoded[\"token_type_ids\"]\n",
        "\n",
        "        ids             = torch.squeeze(ids,0)\n",
        "        mask            = torch.squeeze(mask,0)\n",
        "        token_type_ids  = torch.squeeze(token_type_ids,0)\n",
        "\n",
        "        return {\n",
        "            'ids': torch.tensor(ids, dtype=torch.long),\n",
        "            'mask': torch.tensor(mask, dtype=torch.long),\n",
        "            'token_type_ids': torch.tensor(token_type_ids, dtype=torch.long)\n",
        "        }"
      ],
      "execution_count": null,
      "outputs": []
    },
    {
      "cell_type": "markdown",
      "metadata": {
        "id": "Gv1GfRZfnZpm"
      },
      "source": [
        "## Custom BERT Network"
      ]
    },
    {
      "cell_type": "code",
      "metadata": {
        "id": "xWZdf8wUUYF-"
      },
      "source": [
        "class BERTBaseUncased(nn.Module):\n",
        "    def __init__(self):\n",
        "        super(BERTBaseUncased, self).__init__()\n",
        "        self.bert = BertModel.from_pretrained('bert-base-uncased')\n",
        "        self.bert_drop = nn.Dropout()\n",
        "        self.out = nn.Linear(768, 5) \n",
        "    \n",
        "    def forward(self, ids, mask, token_type_ids):\n",
        "        _, o2 = self.bert(ids, attention_mask=mask, token_type_ids=token_type_ids, return_dict=False)\n",
        "        bo = self.bert_drop(o2)\n",
        "        output = self.out(bo)\n",
        "        return(output)"
      ],
      "execution_count": null,
      "outputs": []
    },
    {
      "cell_type": "markdown",
      "metadata": {
        "id": "ialVWpQyn60I"
      },
      "source": [
        "# Code Engine\n"
      ]
    },
    {
      "cell_type": "markdown",
      "metadata": {
        "id": "2dDmeLKaNor9"
      },
      "source": [
        "## Data Prep"
      ]
    },
    {
      "cell_type": "code",
      "metadata": {
        "colab": {
          "base_uri": "https://localhost:8080/"
        },
        "id": "DigDqeFSDjV7",
        "outputId": "21bb9176-a437-4973-9346-5379c36a2af6"
      },
      "source": [
        "df = df.sample(n=10000, random_state=1)\n",
        "print(df.overall.value_counts())\n",
        "len(df['reviewText'].values)"
      ],
      "execution_count": null,
      "outputs": [
        {
          "output_type": "stream",
          "text": [
            "1.0    2102\n",
            "2.0    2014\n",
            "3.0    1970\n",
            "5.0    1964\n",
            "4.0    1950\n",
            "Name: overall, dtype: int64\n"
          ],
          "name": "stdout"
        },
        {
          "output_type": "execute_result",
          "data": {
            "text/plain": [
              "10000"
            ]
          },
          "metadata": {},
          "execution_count": 23
        }
      ]
    },
    {
      "cell_type": "code",
      "metadata": {
        "id": "IyjHs-GR0Vb_"
      },
      "source": [
        "train_x, test_x, train_y, test_y = train_test_split(df['reviewText'], df['overall'],train_size = 0.7,random_state = 1,stratify = df['overall'])"
      ],
      "execution_count": null,
      "outputs": []
    },
    {
      "cell_type": "code",
      "metadata": {
        "id": "aAJWTKjdmj4W"
      },
      "source": [
        "test_x, valid_x, test_y, valid_y = train_test_split(test_x, test_y , train_size = 0.5, random_state = 1, stratify = test_y)"
      ],
      "execution_count": null,
      "outputs": []
    },
    {
      "cell_type": "code",
      "metadata": {
        "colab": {
          "base_uri": "https://localhost:8080/"
        },
        "id": "CHl0SWR4m9pV",
        "outputId": "e0e46e1b-21cb-444d-df74-0615cdbe0b81"
      },
      "source": [
        "print(train_y.value_counts(),len(train_x))\n",
        "print(test_y.value_counts(),len(test_x))\n",
        "print(valid_y.value_counts(),len(valid_x))"
      ],
      "execution_count": null,
      "outputs": [
        {
          "output_type": "stream",
          "text": [
            "1.0    1471\n",
            "2.0    1410\n",
            "3.0    1379\n",
            "5.0    1375\n",
            "4.0    1365\n",
            "Name: overall, dtype: int64 7000\n",
            "1.0    315\n",
            "2.0    302\n",
            "5.0    295\n",
            "3.0    295\n",
            "4.0    293\n",
            "Name: overall, dtype: int64 1500\n",
            "1.0    316\n",
            "2.0    302\n",
            "3.0    296\n",
            "5.0    294\n",
            "4.0    292\n",
            "Name: overall, dtype: int64 1500\n"
          ],
          "name": "stdout"
        }
      ]
    },
    {
      "cell_type": "markdown",
      "metadata": {
        "id": "0HSARV8CNaBH"
      },
      "source": [
        "## Parameters"
      ]
    },
    {
      "cell_type": "code",
      "metadata": {
        "colab": {
          "base_uri": "https://localhost:8080/"
        },
        "id": "yuk_BWanOhoQ",
        "outputId": "bb4c16ca-db99-416b-ed59-6718fce728ff"
      },
      "source": [
        "max_str = max(df.reviewText, key = len)\n",
        "max_str_index = list(df.reviewText).index(max_str)\n",
        "max_len = 256\n",
        "\n",
        "tokenizer = BertTokenizer.from_pretrained('bert-base-uncased', do_lower_case=True)\n",
        "\n",
        "power = 4\n",
        "\n",
        "train_batch_size = 2**power\n",
        "valid_batch_size = 2**power\n",
        "\n",
        "print(f'train_batch_size : {train_batch_size}')\n",
        "print(f'valid_batch_size : {valid_batch_size}')"
      ],
      "execution_count": null,
      "outputs": [
        {
          "output_type": "stream",
          "text": [
            "train_batch_size : 16\n",
            "valid_batch_size : 16\n"
          ],
          "name": "stdout"
        }
      ]
    },
    {
      "cell_type": "markdown",
      "metadata": {
        "id": "7Nl1GHGZozLc"
      },
      "source": [
        "## Convert to Bert Format"
      ]
    },
    {
      "cell_type": "code",
      "metadata": {
        "id": "uDyk_oVkrxJA"
      },
      "source": [
        "train_df = Bert_data_prep(x = train_x, y = train_y-1, tokenizer = tokenizer, max_len = max_len)\n",
        "valid_df = Bert_data_prep(x = valid_x, y = valid_y-1, tokenizer = tokenizer, max_len = max_len)\n",
        "test_df = Bert_data_prep(x = test_x, y = test_y-1, tokenizer = tokenizer, max_len = max_len)"
      ],
      "execution_count": null,
      "outputs": []
    },
    {
      "cell_type": "markdown",
      "metadata": {
        "id": "UZ4tw_vDN5Cz"
      },
      "source": [
        "## Data *Loader*"
      ]
    },
    {
      "cell_type": "code",
      "metadata": {
        "id": "4zaadfHTcG9p"
      },
      "source": [
        "train_data_loader = torch.utils.data.DataLoader(train_df, batch_size=train_batch_size)\n",
        "valid_data_loader = torch.utils.data.DataLoader(valid_df, batch_size=valid_batch_size)\n",
        "test_data_loader = torch.utils.data.DataLoader(test_df, batch_size=valid_batch_size)"
      ],
      "execution_count": null,
      "outputs": []
    },
    {
      "cell_type": "code",
      "metadata": {
        "colab": {
          "base_uri": "https://localhost:8080/"
        },
        "id": "zNJBTWu2zWcd",
        "outputId": "481bc8ed-d040-42ad-c8a5-cc8d530392d7"
      },
      "source": [
        "model = BERTBaseUncased()\n",
        "model.cuda()\n",
        "optimizer = AdamW(model.parameters(), lr = 2e-5, eps = 1e-8)"
      ],
      "execution_count": null,
      "outputs": [
        {
          "output_type": "stream",
          "text": [
            "Some weights of the model checkpoint at bert-base-uncased were not used when initializing BertModel: ['cls.predictions.transform.dense.bias', 'cls.predictions.transform.LayerNorm.bias', 'cls.seq_relationship.bias', 'cls.predictions.bias', 'cls.predictions.decoder.weight', 'cls.seq_relationship.weight', 'cls.predictions.transform.dense.weight', 'cls.predictions.transform.LayerNorm.weight']\n",
            "- This IS expected if you are initializing BertModel from the checkpoint of a model trained on another task or with another architecture (e.g. initializing a BertForSequenceClassification model from a BertForPreTraining model).\n",
            "- This IS NOT expected if you are initializing BertModel from the checkpoint of a model that you expect to be exactly identical (initializing a BertForSequenceClassification model from a BertForSequenceClassification model).\n"
          ],
          "name": "stderr"
        }
      ]
    },
    {
      "cell_type": "code",
      "metadata": {
        "id": "ggpPntWhR9H5"
      },
      "source": [
        "epochs = 4 \n",
        "total_steps = len(train_data_loader) * epochs\n",
        "scheduler = get_linear_schedule_with_warmup(optimizer= optimizer, num_warmup_steps=0, num_training_steps= total_steps)"
      ],
      "execution_count": null,
      "outputs": []
    },
    {
      "cell_type": "markdown",
      "metadata": {
        "id": "7CdUatL76DcT"
      },
      "source": [
        "## Model Training"
      ]
    },
    {
      "cell_type": "code",
      "metadata": {
        "id": "mqM9XOvM6BkB"
      },
      "source": [
        "device = torch.device('cuda:0')\n",
        "model = model.to(device)\n",
        "nl = '\\n'"
      ],
      "execution_count": null,
      "outputs": []
    },
    {
      "cell_type": "code",
      "metadata": {
        "colab": {
          "base_uri": "https://localhost:8080/",
          "height": 249,
          "referenced_widgets": [
            "37e1bf0e1baf4713943da47fb5451c28",
            "9c30acb5d8e74d4c9a20d53cfaf8f092",
            "adf8f8c27709401fac2d4b8cf8f63c73",
            "3cea1b0adb5348bfaf524d8b4a2cecbf",
            "8b3816333ab346b5895d1a2aad9eeeea",
            "46656cb1b2944d4780f5bdc427af175d",
            "68b0508ce66449ab8603f439fd8360ed",
            "15f6eefd84f64f02b41fab3078b520f2",
            "409ed314c6f249419dfdb74042ff73dd",
            "bf0044eb2c2b4876a16fde77b0673ed6",
            "1b3999280e0a4f53934d6a8a1b2b5638",
            "a9871604ea5c4b8ca0f1becf2d276c62",
            "df60a91f97c74dcf8b7dba0d440513ab",
            "3bfaf811476a473b8289f8bc705e876b",
            "650f81bb3177490dad4154955c4f7cea",
            "74f5bdbcd9484574becfe5d0f6cf1486",
            "f4d6672fa77541d384c3967297afe62e",
            "882176b9bbcd436c9983ae5b662d0284",
            "f118446acba84613ad647b732c3c7358",
            "b7174e6503ce46e5b9e74d92d4b096dc",
            "03e30f0e62ce484b92bffe0752824b95",
            "775e71a17c9e447e9d50d333203ff936",
            "fcd0e8a438824e37800df1631afcf096",
            "0ca635d38d2b42afb6a1c9ee24c44faf",
            "78d269ea517d4b24a408eb27bb645a43",
            "e8d901e0224c4145b986b6eec9245da2",
            "3cc2f82940f14a458ddb3ef9603570e5",
            "dc51556a4c48414bacc32ea3f2051815",
            "3330c249de98414f857f1ec8607f8fa3",
            "1ab4600033c343c89b70b29803b89437",
            "b21fde71e7d541f29948e0faa4c51236",
            "b1c22d36e7b2472ebe724842d49a85ec",
            "62237d8e9a0f4953812647b6d9e1d377"
          ]
        },
        "id": "Toq2v6FYaGoV",
        "outputId": "0f80c260-80c6-4c9b-8e74-6c8857b90434"
      },
      "source": [
        "start = datetime.now()\n",
        "loss_f = nn.NLLLoss() \n",
        "sm = nn.Softmax(dim=1)\n",
        "lsm = nn.LogSoftmax(dim=1)\n",
        "\n",
        "loss_list = []\n",
        "accuracy_list = []\n",
        "\n",
        "for epoch in tqdm(range(epochs)):    \n",
        "    model.train()\n",
        "    for i, batch_train in tqdm(enumerate(train_data_loader), total=len(train_df)/train_batch_size):\n",
        "        ids             = batch_train['ids']\n",
        "        mask            = batch_train['mask']\n",
        "        targets         = batch_train['targets'].type(torch.FloatTensor)\n",
        "        token_type_ids  = batch_train['token_type_ids']           \n",
        "\n",
        "        ids             = ids.to(device, dtype = torch.long)\n",
        "        targets         = targets.to(device, dtype = torch.long)\n",
        "        mask            = mask.to(device, dtype = torch.long)\n",
        "        token_type_ids  = token_type_ids.to(device, dtype = torch.long) \n",
        "\n",
        "        optimizer.zero_grad()\n",
        "        train_outputs = model(ids = ids, mask = mask, token_type_ids = token_type_ids)\n",
        "        train_outputs = lsm(train_outputs)\n",
        "        loss = loss_f(train_outputs, targets)\n",
        "        loss.backward()\n",
        "\n",
        "        optimizer.step()\n",
        "        scheduler.step()    \n",
        "\n",
        "    model.eval()\n",
        "    with torch.no_grad():\n",
        "        for j, batch_valid in enumerate(valid_data_loader):\n",
        "            ids             = batch_valid['ids']\n",
        "            mask            = batch_valid['mask']\n",
        "            targets         = batch_valid['targets'].type(torch.FloatTensor)\n",
        "            token_type_ids  = batch_valid['token_type_ids']\n",
        "\n",
        "            ids             = ids.to(device, dtype = torch.long)\n",
        "            targets         = targets.to(device, dtype = torch.float)\n",
        "            targets         = targets.cpu().detach().numpy()\n",
        "            mask            = mask.to(device, dtype = torch.long)\n",
        "            token_type_ids  = token_type_ids.to(device, dtype = torch.long) \n",
        "\n",
        "            outputs = model(ids = ids, mask = mask, token_type_ids = token_type_ids) \n",
        "            outputs = sm(outputs)\n",
        "            outputs = outputs.cpu().detach().numpy()\n",
        "            outputs = np.argmax(outputs, axis=1)\n",
        "           \n",
        "        loss_list.append(loss.data)        \n",
        "  \n",
        "        accuracy_val = accuracy_score(outputs, targets)   \n",
        "        accuracy_list.append(accuracy_val)\n",
        "\n",
        "        print(f'{nl}Epoch : {epoch}, Loss : {loss.data} , Accuracy : {accuracy_val}') \n",
        "\n",
        "end = datetime.now()\n",
        "time_elapsed = relativedelta(end, start)\n",
        "print(f'{nl} time_elapsed : {time_elapsed}')\n",
        "torch.save(model.state_dict(), 'model.pth')"
      ],
      "execution_count": null,
      "outputs": [
        {
          "output_type": "display_data",
          "data": {
            "application/vnd.jupyter.widget-view+json": {
              "model_id": "37e1bf0e1baf4713943da47fb5451c28",
              "version_minor": 0,
              "version_major": 2
            },
            "text/plain": [
              "  0%|          | 0/2 [00:00<?, ?it/s]"
            ]
          },
          "metadata": {}
        },
        {
          "output_type": "display_data",
          "data": {
            "application/vnd.jupyter.widget-view+json": {
              "model_id": "a9871604ea5c4b8ca0f1becf2d276c62",
              "version_minor": 0,
              "version_major": 2
            },
            "text/plain": [
              "  0%|          | 0/437.5 [00:00<?, ?it/s]"
            ]
          },
          "metadata": {}
        },
        {
          "output_type": "stream",
          "text": [
            "Truncation was not explicitly activated but `max_length` is provided a specific value, please use `truncation=True` to explicitly truncate examples to max length. Defaulting to 'longest_first' truncation strategy. If you encode pairs of sequences (GLUE-style) with the tokenizer you can select this strategy more precisely by providing a specific strategy to `truncation`.\n"
          ],
          "name": "stderr"
        },
        {
          "output_type": "stream",
          "text": [
            "\n",
            "Epoch : 0, Loss : 0.7275646924972534 , Accuracy : 0.75\n"
          ],
          "name": "stdout"
        },
        {
          "output_type": "display_data",
          "data": {
            "application/vnd.jupyter.widget-view+json": {
              "model_id": "fcd0e8a438824e37800df1631afcf096",
              "version_minor": 0,
              "version_major": 2
            },
            "text/plain": [
              "  0%|          | 0/437.5 [00:00<?, ?it/s]"
            ]
          },
          "metadata": {}
        },
        {
          "output_type": "stream",
          "text": [
            "\n",
            "Epoch : 1, Loss : 0.7053416967391968 , Accuracy : 0.75\n",
            "\n",
            " time_elapsed : relativedelta(minutes=+21, seconds=+31, microseconds=+132752)\n"
          ],
          "name": "stdout"
        }
      ]
    },
    {
      "cell_type": "code",
      "metadata": {
        "colab": {
          "base_uri": "https://localhost:8080/",
          "height": 286
        },
        "id": "AflK3dHc8_Eq",
        "outputId": "6626c92b-864f-4e88-86bd-b540b9d21ce3"
      },
      "source": [
        "plt.plot(np.array(loss_list), 'r', label='Valid_loss')\n",
        "plt.plot(np.array(accuracy_list), 'g', label='Valid_accuracy')\n",
        "plt.legend(loc=\"upper left\")\n",
        "plt.savefig('Validation', dpi=300)"
      ],
      "execution_count": null,
      "outputs": [
        {
          "output_type": "display_data",
          "data": {
            "image/png": "[encoded data removed]",
            "text/plain": [
              "<Figure size 432x288 with 1 Axes>"
            ]
          },
          "metadata": {
            "needs_background": "light"
          }
        }
      ]
    },
    {
      "cell_type": "markdown",
      "metadata": {
        "id": "MXgtcREIZ5ew"
      },
      "source": [
        "## Testing"
      ]
    },
    {
      "cell_type": "code",
      "metadata": {
        "id": "QVjyRojASO9Q"
      },
      "source": [
        "accuracy_test_list = []\n",
        "output_list = []\n",
        "targets_list = []\n",
        "for j, batch_valid in enumerate(test_data_loader):\n",
        "            ids             = batch_valid['ids']\n",
        "            mask            = batch_valid['mask']\n",
        "            targets         = batch_valid['targets'].type(torch.FloatTensor)\n",
        "            \n",
        "            token_type_ids  = batch_valid['token_type_ids']\n",
        "\n",
        "            ids             = ids.to(device, dtype = torch.long)\n",
        "            targets         = targets.to(device, dtype = torch.float)\n",
        "            targets         = targets.cpu().detach().numpy()\n",
        "            targets_list.append(targets)\n",
        "            mask            = mask.to(device, dtype = torch.long)\n",
        "            token_type_ids  = token_type_ids.to(device, dtype = torch.long)            \n",
        "\n",
        "            outputs = model(ids = ids, mask = mask, token_type_ids = token_type_ids) \n",
        "            outputs = sm(outputs)\n",
        "            outputs = outputs.cpu().detach().numpy()\n",
        "            output_list.append(outputs)\n",
        "            outputs = np.argmax(outputs, axis=1)\n",
        "\n",
        "            accuracy_test = accuracy_score(outputs, targets)\n",
        "            accuracy_test_list.append(accuracy_test)"
      ],
      "execution_count": null,
      "outputs": []
    },
    {
      "cell_type": "code",
      "metadata": {
        "colab": {
          "base_uri": "https://localhost:8080/"
        },
        "id": "9yfkKnHp8Lil",
        "outputId": "b788fb49-508d-4e07-88a0-7f2e15fd160b"
      },
      "source": [
        "len(accuracy_test_list)"
      ],
      "execution_count": null,
      "outputs": [
        {
          "output_type": "execute_result",
          "data": {
            "text/plain": [
              "94"
            ]
          },
          "metadata": {},
          "execution_count": 37
        }
      ]
    },
    {
      "cell_type": "code",
      "metadata": {
        "id": "yrXs4Lz8tsm2",
        "colab": {
          "base_uri": "https://localhost:8080/",
          "height": 287
        },
        "outputId": "f29cfa95-57ba-4de6-9264-6e29cd97096c"
      },
      "source": [
        "nums = np.arange(0, len(accuracy_test_list), 20)\n",
        "plt.plot(nums, [accuracy_test_list[i] for i in nums], label='Test accuracy')\n",
        "# plt.plot(accuracy_test_list, label='Test accuracy')\n",
        "plt.legend(loc=\"upper left\")\n",
        "plt.savefig('Test', dpi=300)"
      ],
      "execution_count": null,
      "outputs": [
        {
          "output_type": "display_data",
          "data": {
            "image/png": "[encoded data removed]",
            "text/plain": [
              "<Figure size 432x288 with 1 Axes>"
            ]
          },
          "metadata": {
            "needs_background": "light"
          }
        }
      ]
    },
    {
      "cell_type": "code",
      "metadata": {
        "colab": {
          "base_uri": "https://localhost:8080/"
        },
        "id": "Z6BZpF9ER_gS",
        "outputId": "97bad1cd-7ce9-459a-a65f-934829b84aa6"
      },
      "source": [
        "# Accuracy on the test set\n",
        "accuracy_test_list_ = np.array(accuracy_test_list)\n",
        "averaged_acc = accuracy_test_list_.mean()\n",
        "print(averaged_acc)"
      ],
      "execution_count": null,
      "outputs": [
        {
          "output_type": "stream",
          "text": [
            "0.5695921985815603\n"
          ],
          "name": "stdout"
        }
      ]
    },
    {
      "cell_type": "code",
      "metadata": {
        "id": "daCZFPQZLGyI"
      },
      "source": [
        "output_list = np.concatenate(output_list, axis=0)\n",
        "output_list = np.argmax(output_list, axis=-1)\n",
        "\n",
        "targets_list = np.concatenate(targets_list, axis=0)"
      ],
      "execution_count": null,
      "outputs": []
    },
    {
      "cell_type": "code",
      "metadata": {
        "colab": {
          "base_uri": "https://localhost:8080/"
        },
        "id": "8KBuxTOeNycV",
        "outputId": "c3f5a46b-9d57-4be3-faa8-7a31f431cbdb"
      },
      "source": [
        "from sklearn.metrics import balanced_accuracy_score\n",
        "from sklearn.metrics import confusion_matrix\n",
        "from sklearn.metrics import classification_report\n",
        "\n",
        "print(balanced_accuracy_score(targets_list, output_list))\n",
        "print(classification_report(targets_list, output_list))\n",
        "print(confusion_matrix(targets_list, output_list))"
      ],
      "execution_count": null,
      "outputs": [
        {
          "output_type": "stream",
          "text": [
            "0.5678165852099946\n",
            "              precision    recall  f1-score   support\n",
            "\n",
            "         0.0       0.63      0.70      0.66       315\n",
            "         1.0       0.49      0.47      0.48       302\n",
            "         2.0       0.48      0.49      0.49       295\n",
            "         3.0       0.52      0.41      0.46       293\n",
            "         4.0       0.68      0.77      0.72       295\n",
            "\n",
            "    accuracy                           0.57      1500\n",
            "   macro avg       0.56      0.57      0.56      1500\n",
            "weighted avg       0.56      0.57      0.56      1500\n",
            "\n",
            "[[220  67  20   5   3]\n",
            " [ 89 143  62   8   0]\n",
            " [ 26  64 146  48  11]\n",
            " [  7  12  61 119  94]\n",
            " [  5   3  13  48 226]]\n"
          ],
          "name": "stdout"
        }
      ]
    },
    {
      "cell_type": "code",
      "metadata": {
        "id": "tRF5wrhQAGqX"
      },
      "source": [
        "test_df_ = test_df[- 4:]\n",
        "results = [(x + 1) for x in outputs]\n",
        "semantics = [(x + 1) for x in targets]\n",
        "test_df_['Semantics'] = semantics\n",
        "test_df_['Predicted rating'] = results\n",
        "test_df_"
      ],
      "execution_count": null,
      "outputs": []
    },
    {
      "cell_type": "markdown",
      "metadata": {
        "id": "hTkR1-NjuLRM"
      },
      "source": [
        "# Zero-shot Classification"
      ]
    },
    {
      "cell_type": "code",
      "metadata": {
        "id": "boWbocqat9GB",
        "colab": {
          "base_uri": "https://localhost:8080/",
          "height": 433
        },
        "outputId": "4e2f769d-0d8a-440b-bbb4-0cff096490d9"
      },
      "source": [
        "test_df = get_clean_df('/content/drive/My Drive/Amazon reviews dataset/AMAZON_FASHION_5.json')\n",
        "test_df2 = get_clean_df('/content/drive/My Drive/Amazon reviews dataset/Prime_Pantry_5.json')\n",
        "test_df = test_df.append(test_df2)\n",
        "test_df"
      ],
      "execution_count": null,
      "outputs": [
        {
          "output_type": "execute_result",
          "data": {
            "text/html": [
              "<div>\n",
              "<style scoped>\n",
              "    .dataframe tbody tr th:only-of-type {\n",
              "        vertical-align: middle;\n",
              "    }\n",
              "\n",
              "    .dataframe tbody tr th {\n",
              "        vertical-align: top;\n",
              "    }\n",
              "\n",
              "    .dataframe thead th {\n",
              "        text-align: right;\n",
              "    }\n",
              "</style>\n",
              "<table border=\"1\" class=\"dataframe\">\n",
              "  <thead>\n",
              "    <tr style=\"text-align: right;\">\n",
              "      <th></th>\n",
              "      <th>reviewText</th>\n",
              "      <th>overall</th>\n",
              "    </tr>\n",
              "  </thead>\n",
              "  <tbody>\n",
              "    <tr>\n",
              "      <th>0</th>\n",
              "      <td>Great product and price!</td>\n",
              "      <td>5.0</td>\n",
              "    </tr>\n",
              "    <tr>\n",
              "      <th>5</th>\n",
              "      <td>Waaay too small. Will use for futur children!</td>\n",
              "      <td>3.0</td>\n",
              "    </tr>\n",
              "    <tr>\n",
              "      <th>6</th>\n",
              "      <td>Stays vibrant after many washes</td>\n",
              "      <td>5.0</td>\n",
              "    </tr>\n",
              "    <tr>\n",
              "      <th>8</th>\n",
              "      <td>My son really likes the pink. Ones which I was...</td>\n",
              "      <td>5.0</td>\n",
              "    </tr>\n",
              "    <tr>\n",
              "      <th>9</th>\n",
              "      <td>Waaay too small. Will use for future child.</td>\n",
              "      <td>3.0</td>\n",
              "    </tr>\n",
              "    <tr>\n",
              "      <th>...</th>\n",
              "      <td>...</td>\n",
              "      <td>...</td>\n",
              "    </tr>\n",
              "    <tr>\n",
              "      <th>137782</th>\n",
              "      <td>I like most of the flavors but this one is my ...</td>\n",
              "      <td>5.0</td>\n",
              "    </tr>\n",
              "    <tr>\n",
              "      <th>137784</th>\n",
              "      <td>These are delicious and healthy snacks!  I wit...</td>\n",
              "      <td>4.0</td>\n",
              "    </tr>\n",
              "    <tr>\n",
              "      <th>137785</th>\n",
              "      <td>Taste not to be believed. Buy a box for my off...</td>\n",
              "      <td>5.0</td>\n",
              "    </tr>\n",
              "    <tr>\n",
              "      <th>137786</th>\n",
              "      <td>They are yummy!</td>\n",
              "      <td>5.0</td>\n",
              "    </tr>\n",
              "    <tr>\n",
              "      <th>137787</th>\n",
              "      <td>Oh so good.</td>\n",
              "      <td>5.0</td>\n",
              "    </tr>\n",
              "  </tbody>\n",
              "</table>\n",
              "<p>100740 rows × 2 columns</p>\n",
              "</div>"
            ],
            "text/plain": [
              "                                               reviewText  overall\n",
              "0                                Great product and price!      5.0\n",
              "5           Waaay too small. Will use for futur children!      3.0\n",
              "6                         Stays vibrant after many washes      5.0\n",
              "8       My son really likes the pink. Ones which I was...      5.0\n",
              "9             Waaay too small. Will use for future child.      3.0\n",
              "...                                                   ...      ...\n",
              "137782  I like most of the flavors but this one is my ...      5.0\n",
              "137784  These are delicious and healthy snacks!  I wit...      4.0\n",
              "137785  Taste not to be believed. Buy a box for my off...      5.0\n",
              "137786                                    They are yummy!      5.0\n",
              "137787                                        Oh so good.      5.0\n",
              "\n",
              "[100740 rows x 2 columns]"
            ]
          },
          "metadata": {},
          "execution_count": 43
        }
      ]
    },
    {
      "cell_type": "code",
      "metadata": {
        "id": "nuSpyCJnZWxh"
      },
      "source": [
        "batch_size = len(test_df)\n",
        "test_x, test_y = test_df['reviewText'], test_df['overall']\n",
        "test_df_prep = Bert_data_prep(x = test_x, y = test_y-1, tokenizer = tokenizer, max_len = max_len)\n",
        "test_data_loader = torch.utils.data.DataLoader(test_df_prep, batch_size=train_batch_size)"
      ],
      "execution_count": null,
      "outputs": []
    },
    {
      "cell_type": "code",
      "metadata": {
        "id": "CEUHo4C8u9Ky",
        "colab": {
          "base_uri": "https://localhost:8080/",
          "height": 286
        },
        "outputId": "644ba58a-fb88-4c28-c3bd-acc47bee0e51"
      },
      "source": [
        "accuracy_test_list = []\n",
        "output_list = []\n",
        "targets_list = []\n",
        "for j, batch_valid in enumerate(test_data_loader):\n",
        "            ids             = batch_valid['ids']\n",
        "            mask            = batch_valid['mask']\n",
        "            targets         = batch_valid['targets'].type(torch.FloatTensor)\n",
        "            \n",
        "            token_type_ids  = batch_valid['token_type_ids']\n",
        "\n",
        "            ids             = ids.to(device, dtype = torch.long)\n",
        "            targets         = targets.to(device, dtype = torch.float)\n",
        "            targets         = targets.cpu().detach().numpy()\n",
        "            targets_list.append(targets)\n",
        "            mask            = mask.to(device, dtype = torch.long)\n",
        "            token_type_ids  = token_type_ids.to(device, dtype = torch.long)            \n",
        "\n",
        "            outputs = model(ids = ids, mask = mask, token_type_ids = token_type_ids) \n",
        "            outputs = sm(outputs)\n",
        "            outputs = outputs.cpu().detach().numpy()\n",
        "            output_list.append(outputs)\n",
        "            outputs = np.argmax(outputs, axis=1)\n",
        "\n",
        "            accuracy_test = accuracy_score(outputs, targets)\n",
        "            accuracy_test_list.append(accuracy_test)\n"
      ],
      "execution_count": null,
      "outputs": [
        {
          "output_type": "display_data",
          "data": {
            "image/png": "[encoded data removed]",
            "text/plain": [
              "<Figure size 432x288 with 1 Axes>"
            ]
          },
          "metadata": {
            "needs_background": "light"
          }
        }
      ]
    },
    {
      "cell_type": "code",
      "metadata": {
        "colab": {
          "base_uri": "https://localhost:8080/",
          "height": 287
        },
        "id": "jE31i6ni92hV",
        "outputId": "5bf34b7d-f70e-4888-81f3-e6b2931831cf"
      },
      "source": [
        "nums = np.arange(0, len(accuracy_test_list), 500)\n",
        "plt.plot(nums, [accuracy_test_list[i] for i in nums], label='Test accuracy of ZSC')\n",
        "plt.legend(loc=\"upper left\")\n",
        "plt.savefig('Zero-shot classification', dpi=300)"
      ],
      "execution_count": null,
      "outputs": [
        {
          "output_type": "display_data",
          "data": {
            "image/png": "[encoded data removed]",
            "text/plain": [
              "<Figure size 432x288 with 1 Axes>"
            ]
          },
          "metadata": {
            "needs_background": "light"
          }
        }
      ]
    },
    {
      "cell_type": "code",
      "metadata": {
        "colab": {
          "base_uri": "https://localhost:8080/"
        },
        "id": "lNKz_zwgKPL1",
        "outputId": "d8adcf20-b7a9-4046-a285-9683e14fd9bb"
      },
      "source": [
        "np.array(accuracy_test_list).mean()"
      ],
      "execution_count": null,
      "outputs": [
        {
          "output_type": "execute_result",
          "data": {
            "text/plain": [
              "0.6187172463077656"
            ]
          },
          "metadata": {},
          "execution_count": 62
        }
      ]
    },
    {
      "cell_type": "code",
      "metadata": {
        "id": "3jW8D5IVVHO9"
      },
      "source": [
        "output_list = np.concatenate(output_list, axis=0)\n",
        "output_list = np.argmax(output_list, axis=-1)\n",
        "\n",
        "targets_list = np.concatenate(targets_list, axis=0)"
      ],
      "execution_count": null,
      "outputs": []
    },
    {
      "cell_type": "code",
      "metadata": {
        "colab": {
          "base_uri": "https://localhost:8080/"
        },
        "id": "Gl9VZACQKSz8",
        "outputId": "c172edb9-35b1-4e09-bc9b-edc745b5b5be"
      },
      "source": [
        "print(balanced_accuracy_score(targets_list, output_list))\n",
        "print(classification_report(targets_list, output_list))\n",
        "print(confusion_matrix(targets_list, output_list))"
      ],
      "execution_count": null,
      "outputs": [
        {
          "output_type": "stream",
          "text": [
            "0.5211142898062647\n",
            "              precision    recall  f1-score   support\n",
            "\n",
            "         0.0       0.29      0.60      0.39      2973\n",
            "         1.0       0.27      0.45      0.34      3416\n",
            "         2.0       0.32      0.45      0.37      7938\n",
            "         3.0       0.28      0.42      0.34     15960\n",
            "         4.0       0.90      0.69      0.78     70453\n",
            "\n",
            "    accuracy                           0.62    100740\n",
            "   macro avg       0.41      0.52      0.44    100740\n",
            "weighted avg       0.72      0.62      0.65    100740\n",
            "\n",
            "[[ 1784   819   250    71    49]\n",
            " [  989  1527   703   153    44]\n",
            " [  728  1834  3538  1489   349]\n",
            " [  394   554  3161  6712  5139]\n",
            " [ 2240   909  3385 15149 48770]]\n"
          ],
          "name": "stdout"
        }
      ]
    },
    {
      "cell_type": "code",
      "metadata": {
        "id": "B_58aMiRR-VR"
      },
      "source": [
        ""
      ],
      "execution_count": null,
      "outputs": []
    }
  ]
}